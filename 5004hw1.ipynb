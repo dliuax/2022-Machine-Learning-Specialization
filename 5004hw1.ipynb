{
  "nbformat": 4,
  "nbformat_minor": 0,
  "metadata": {
    "colab": {
      "provenance": [],
      "authorship_tag": "ABX9TyM4PErhY3TfOEHhoPdXpFex",
      "include_colab_link": true
    },
    "kernelspec": {
      "name": "python3",
      "display_name": "Python 3"
    },
    "language_info": {
      "name": "python"
    }
  },
  "cells": [
    {
      "cell_type": "markdown",
      "metadata": {
        "id": "view-in-github",
        "colab_type": "text"
      },
      "source": [
        "<a href=\"https://colab.research.google.com/github/dliuax/2022-Machine-Learning-Specialization/blob/main/5004hw1.ipynb\" target=\"_parent\"><img src=\"https://colab.research.google.com/assets/colab-badge.svg\" alt=\"Open In Colab\"/></a>"
      ]
    },
    {
      "cell_type": "code",
      "source": [
        "import math\n",
        "import numpy as np\n",
        "x = 1.5\n",
        "print(x-(4*x*math.sin(x)-4*(math.sin(x)**2)-x**2)/(4*math.sin(x)+4*x*math.cos(x)-8*math.sin(x)*math.cos(x)-2*x))"
      ],
      "metadata": {
        "colab": {
          "base_uri": "https://localhost:8080/"
        },
        "id": "e4qzbLOzVeqG",
        "outputId": "68dc8414-d34d-4332-a6af-208507df8f3c"
      },
      "execution_count": 2,
      "outputs": [
        {
          "output_type": "stream",
          "name": "stdout",
          "text": [
            "1.7882791003152176\n"
          ]
        }
      ]
    },
    {
      "cell_type": "code",
      "source": [
        "# 1.(2).(i)\n",
        "def f_x(x):\n",
        "  return 4*x*math.sin(x)-4*(math.sin(x)**2)-x**2\n",
        "def d_f_x(x):\n",
        "  return 4*math.sin(x)+4*x*math.cos(x)-8*math.sin(x)*math.cos(x)-2*x\n",
        "def newton_method(point_start, accuracy, iteration):\n",
        "  x_n = point_start\n",
        "  for i in range(iteration):\n",
        "    if d_f_x(x_n) == 0:\n",
        "      print(\"Zero derivative. No solution found.\")\n",
        "      return None\n",
        "    else:\n",
        "      x_n_1 = x_n - f_x(x_n)/d_f_x(x_n)\n",
        "    if abs(x_n_1 - x_n) < accuracy:\n",
        "      print(f\"Found solution after {i} iterations.\")\n",
        "      return x_n_1\n",
        "    x_n = x_n_1\n",
        "  print(\"Exceeded maximum iterations. No solution found.\")\n",
        "  return None\n",
        "\n",
        "newton_method(1.5, 1e-5, 1000)\n"
      ],
      "metadata": {
        "colab": {
          "base_uri": "https://localhost:8080/"
        },
        "id": "KDs43JHqatpa",
        "outputId": "2b0dcc20-fae2-4670-8f0f-73728cc49019"
      },
      "execution_count": 10,
      "outputs": [
        {
          "output_type": "stream",
          "name": "stdout",
          "text": [
            "Found solution after 14 iterations.\n"
          ]
        },
        {
          "output_type": "execute_result",
          "data": {
            "text/plain": [
              "1.8954885493377045"
            ]
          },
          "metadata": {},
          "execution_count": 10
        }
      ]
    },
    {
      "cell_type": "code",
      "source": [
        "# 1.(2).(ii)\n",
        "def f_x(x):\n",
        "  return 4*x*math.sin(x)-4*(math.sin(x)**2)-x**2\n",
        "def newton_method(point_start_1, point_start_2, accuracy, iteration):\n",
        "  x0 = point_start_1\n",
        "  x1 = point_start_2\n",
        "  for i in range(iteration):\n",
        "    if f_x(x0) == f_x(x1):\n",
        "      print(\"Numerator is zero. No solution found.\")\n",
        "      return None\n",
        "    else:\n",
        "      x2 = x1 - f_x(x1)*(x1-x0)/(f_x(x1)-f_x(x0))\n",
        "    if abs(x2 - x1) < accuracy:\n",
        "      print(f\"Found solution after {i} iterations.\")\n",
        "      return x2\n",
        "    x0 = x1\n",
        "    x1 = x2\n",
        "  print(\"Exceeded maximum iterations. No solution found.\")\n",
        "  return None\n",
        "\n",
        "newton_method(1.5, 1.6, 1e-5, 1000)"
      ],
      "metadata": {
        "colab": {
          "base_uri": "https://localhost:8080/"
        },
        "id": "s1ukKIw5lR20",
        "outputId": "73e3ac58-19c0-47c8-d644-47c4bc5a167d"
      },
      "execution_count": 12,
      "outputs": [
        {
          "output_type": "stream",
          "name": "stdout",
          "text": [
            "Found solution after 19 iterations.\n"
          ]
        },
        {
          "output_type": "execute_result",
          "data": {
            "text/plain": [
              "1.8954834536567298"
            ]
          },
          "metadata": {},
          "execution_count": 12
        }
      ]
    },
    {
      "cell_type": "code",
      "source": [
        "# 2.(2)\n",
        "def J_matrix(x1,x2):\n",
        "  return np.array([[2*x1+math.exp(x1)*math.cos(2*x2), -8*x2-2*math.exp(x1)*math.sin(2*x2)],[4*x2+math.exp(x1)*math.sin(2*x2), 4*x1+2*math.exp(x1)*math.cos(2*x2)]])\n",
        "\n",
        "def F_matrix(x1,x2):\n",
        "  return np.array([[1+x1**2-4*x2**2+math.exp(x1)*math.cos(2*x2)],[4*x1*x2+math.exp(x1)*math.sin(2*x2)]])\n",
        "\n",
        "x1_0 = -1\n",
        "x2_0 = 2\n",
        "for i in range(5):\n",
        "  next_point = np.array([[x1_0],[x2_0]]) - (np.linalg.inv(J_matrix(x1_0,x2_0))).dot(F_matrix(x1_0,x2_0))\n",
        "  x1_0 = next_point[0, 0]\n",
        "  x2_0 = next_point[1, 0]\n",
        "print(x1_0)\n",
        "print(x2_0)"
      ],
      "metadata": {
        "colab": {
          "base_uri": "https://localhost:8080/"
        },
        "id": "cOgi5jef4g5K",
        "outputId": "1346b9a3-ec61-4b45-c812-b3d3dfee0ac7"
      },
      "execution_count": 11,
      "outputs": [
        {
          "output_type": "stream",
          "name": "stdout",
          "text": [
            "-0.29316268679836194\n",
            "0.586329908945809\n"
          ]
        }
      ]
    }
  ]
}